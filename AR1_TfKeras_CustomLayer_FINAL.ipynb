{
  "nbformat": 4,
  "nbformat_minor": 0,
  "metadata": {
    "colab": {
      "name": "AR1_TfKeras_CustomLayer_FINAL.ipynb",
      "provenance": [],
      "collapsed_sections": [],
      "authorship_tag": "ABX9TyOkSNrd6K8GE9+D1P9GJiPx",
      "include_colab_link": true
    },
    "kernelspec": {
      "name": "python3",
      "display_name": "Python 3"
    }
  },
  "cells": [
    {
      "cell_type": "markdown",
      "metadata": {
        "id": "view-in-github",
        "colab_type": "text"
      },
      "source": [
        "<a href=\"https://colab.research.google.com/github/jacoboucl/Autoregressive-Model/blob/master/AR1_TfKeras_CustomLayer_FINAL.ipynb\" target=\"_parent\"><img src=\"https://colab.research.google.com/assets/colab-badge.svg\" alt=\"Open In Colab\"/></a>"
      ]
    },
    {
      "cell_type": "markdown",
      "metadata": {
        "id": "DfplBccd8FRR"
      },
      "source": [
        "# Reproducing Results, now adding Custom Layers:"
      ]
    },
    {
      "cell_type": "markdown",
      "metadata": {
        "id": "5aRpksFQ8LsU"
      },
      "source": [
        "### Try AR(1) model with noise:\n",
        "* $y_t = c + \\sum_{i=1}^p \\phi_i * y_{t-i} + \\varepsilon_t$\n",
        "* To learn network $W = \\vec{\\phi}, c=0$\n",
        "* Ref.: https://www.tensorflow.org/tutorials/customization/custom_training"
      ]
    },
    {
      "cell_type": "markdown",
      "metadata": {
        "id": "aYrv3ed78LwC"
      },
      "source": [
        ""
      ]
    },
    {
      "cell_type": "code",
      "metadata": {
        "id": "ycSFZlzO8LzJ",
        "colab": {
          "base_uri": "https://localhost:8080/"
        },
        "outputId": "b5439d10-e987-47b7-a383-4a9278e9caa2"
      },
      "source": [
        "!pip install -q tensorflow==2.2\n",
        "import tensorflow as tf\n",
        "print(tf.__version__)\n",
        "tf.keras.backend.clear_session()  # For easy reset of notebook state.\n",
        "import numpy as np\n",
        "import tensorflow.keras.layers as layers\n",
        "from tensorflow.keras.layers import Input, Dense\n",
        "from tensorflow.keras.models import Model\n",
        "from tensorflow.keras.optimizers import SGD, Adam"
      ],
      "execution_count": 1,
      "outputs": [
        {
          "output_type": "stream",
          "text": [
            "\u001b[K     |████████████████████████████████| 516.2 MB 3.4 kB/s \n",
            "\u001b[K     |████████████████████████████████| 2.9 MB 27.1 MB/s \n",
            "\u001b[K     |████████████████████████████████| 3.0 MB 39.9 MB/s \n",
            "\u001b[K     |████████████████████████████████| 454 kB 42.7 MB/s \n",
            "\u001b[?25h2.2.0\n"
          ],
          "name": "stdout"
        }
      ]
    },
    {
      "cell_type": "code",
      "metadata": {
        "id": "9FX64DZA8L2R"
      },
      "source": [
        "import numpy as np\n",
        "import pandas as pd\n",
        "import matplotlib.pyplot as plt\n",
        "# import keras.backend as K\n",
        "from random import gauss\n",
        "from random import seed\n",
        "import logging\n",
        "import pytest"
      ],
      "execution_count": 3,
      "outputs": []
    },
    {
      "cell_type": "code",
      "metadata": {
        "id": "TJ4ck3T18L8T",
        "colab": {
          "base_uri": "https://localhost:8080/"
        },
        "outputId": "ded8fffa-e3ae-4a22-fc9e-1fb3a124fd7d"
      },
      "source": [
        "# Params for my custom model:\n",
        "PHIs    = [0.9]#, -0.19, -0.1] #range(1,P+1)* np.ones(P)# PHIs = [.1,.2,.3, ...]\n",
        "P       = len(PHIs)\n",
        "CONST   = 0\n",
        "LENGTH  = 50000\n",
        "SIGMA   = 0.5\n",
        "SEED    = 3\n",
        "\n",
        "assert len(PHIs) == P\n",
        "print(PHIs)"
      ],
      "execution_count": 4,
      "outputs": [
        {
          "output_type": "stream",
          "text": [
            "[0.9]\n"
          ],
          "name": "stdout"
        }
      ]
    },
    {
      "cell_type": "markdown",
      "metadata": {
        "id": "48fkz2j382J6"
      },
      "source": [
        "# 1. ***Generate AR(p) Series: DONE***\n",
        "# ==========================="
      ]
    },
    {
      "cell_type": "code",
      "metadata": {
        "id": "uB6acbBR82NT"
      },
      "source": [
        "def create_AR_series(length=LENGTH, sigma=SIGMA, p=P, phi=PHIs, with_noise=True):\n",
        "  ''' Create AR(p) series\t'''\n",
        "  # Initial element with value > noise:\n",
        "  seq = pd.Series(PHIs + np.random.normal(0, sigma, p))\n",
        "  print('Initial states: ' + str(seq) )\n",
        "  # Generate sequence:\n",
        "  for i in range(1,length):\n",
        "    if with_noise == True:\n",
        "      e_t = np.random.normal(0,sigma,1)\n",
        "    else: \n",
        "      e_t = 0.0\n",
        "    x_t = np.dot(phi,seq[-p:]) + e_t\n",
        "    seq = seq.append(pd.Series(x_t), ignore_index=True)\n",
        "  \n",
        "  return seq"
      ],
      "execution_count": 5,
      "outputs": []
    },
    {
      "cell_type": "code",
      "metadata": {
        "id": "zlUVwKPp82QC",
        "colab": {
          "base_uri": "https://localhost:8080/"
        },
        "outputId": "890d7414-88dc-4a1e-99fc-a82f9686065d"
      },
      "source": [
        "series_noiseless = create_AR_series(with_noise=False)"
      ],
      "execution_count": 6,
      "outputs": [
        {
          "output_type": "stream",
          "text": [
            "Initial states: 0    0.593402\n",
            "dtype: float64\n"
          ],
          "name": "stdout"
        }
      ]
    },
    {
      "cell_type": "code",
      "metadata": {
        "id": "ZFXhImGb82Sq"
      },
      "source": [
        "def build_dataset(series, p=P, phi = PHIs):\n",
        "  inputs = []\n",
        "  outputs = []\n",
        "\n",
        "  if p == 1:\n",
        "    for t in range(p,len(series)):\n",
        "      x = series[t-1]\n",
        "      inputs.append(x)\n",
        "      y = series[t]\n",
        "      outputs.append(y)\n",
        "\n",
        "  else:\n",
        "    for t in range(p,len(series)):\n",
        "      x = series[t-p:t]\n",
        "      inputs.append(x)\n",
        "      y = series[t]\n",
        "      outputs.append(y)\n",
        "\n",
        "  X = np.array(inputs)\n",
        "  Y = np.array(outputs)\n",
        "  \n",
        "  N = len(X)\n",
        "\n",
        "  X_train, Y_train = X[:-N//2], Y[:-N//2]\n",
        "  X_test, Y_test = X[-N//2:], Y[-N//2:]\n",
        "\n",
        "  return X_train, Y_train, X_test, Y_test"
      ],
      "execution_count": 7,
      "outputs": []
    },
    {
      "cell_type": "code",
      "metadata": {
        "id": "fr7cMF9Z82Vy"
      },
      "source": [
        "X_train0, Y_train0, X_test0, Y_test0 = build_dataset(series_noiseless, p=P)"
      ],
      "execution_count": 8,
      "outputs": []
    },
    {
      "cell_type": "code",
      "metadata": {
        "id": "AT0OJEvc82Yi"
      },
      "source": [
        "# CHECKS TO RUN IF NOISE = 0\n",
        "if P==1:\n",
        "  check_train   = X_train0 * np.array(PHIs) == Y_train0\n",
        "  check_test    = X_test0 * np.array(PHIs) == Y_test0\n",
        "  # Consistency: assert that every y_t is the last element of the next feature:\n",
        "  for t in range(P,len(Y_train0)):\n",
        "    assert Y_train0[t-1] == X_train0[t]\n",
        "else:\n",
        "  check_train = np.array( np.dot(X_train0, np.array(PHIs)) == Y_train0 )\n",
        "  check_test = np.array( np.dot(X_test0, np.array(PHIs)) == Y_test0 )\n",
        "  # Consistency: assert that every y_t is the last element of the next feature:\n",
        "  for t in range(P,len(Y_train0)):\n",
        "    assert Y_train0[t-1] == X_train0[t][P-1]\n",
        "\n",
        "# Both Boolean arrays must contain all True's, i.e. y_t = np.dot( \\vec\\PHIs, y_{t-1:p} )\n",
        "assert any( check_train )\n",
        "assert any( check_test )"
      ],
      "execution_count": 9,
      "outputs": []
    },
    {
      "cell_type": "markdown",
      "metadata": {
        "id": "EGrOLYRZ82bT"
      },
      "source": [
        "* If tests above are passed, now re-generate series adding noise:"
      ]
    },
    {
      "cell_type": "code",
      "metadata": {
        "id": "AghHLFrm9_kA",
        "colab": {
          "base_uri": "https://localhost:8080/"
        },
        "outputId": "f94084c3-4ccd-4b78-f509-c3674b74a4ac"
      },
      "source": [
        "series = create_AR_series(with_noise=True)\n",
        "X_train, Y_train, X_test, Y_test = build_dataset(series, p=P)"
      ],
      "execution_count": 10,
      "outputs": [
        {
          "output_type": "stream",
          "text": [
            "Initial states: 0    1.270182\n",
            "dtype: float64\n"
          ],
          "name": "stdout"
        }
      ]
    },
    {
      "cell_type": "code",
      "metadata": {
        "id": "vQXSPmDf-A9f",
        "colab": {
          "base_uri": "https://localhost:8080/",
          "height": 281
        },
        "outputId": "ab911adc-af1d-49e6-bc7d-cf0dc05c90ec"
      },
      "source": [
        "plt.plot(series)\n",
        "plt.title(\"Noisy Auto-Regressive Series\")\n",
        "plt.show()\n",
        "#print('May diverge if noise = 0 and PHIs large, be careful.')"
      ],
      "execution_count": 11,
      "outputs": [
        {
          "output_type": "display_data",
          "data": {
            "image/png": "[encoded data removed]",
            "text/plain": [
              "<Figure size 432x288 with 1 Axes>"
            ]
          },
          "metadata": {
            "tags": [],
            "needs_background": "light"
          }
        }
      ]
    },
    {
      "cell_type": "markdown",
      "metadata": {
        "id": "ho--o7JO-CSN"
      },
      "source": [
        "* Our AR(p) series is ready and tested.\n",
        "* Let's try it as input to a model verified from TF2 documentation:\n"
      ]
    },
    {
      "cell_type": "markdown",
      "metadata": {
        "id": "lvDBomOn-CYV"
      },
      "source": [
        "* Now try write custom-Layers-based version of our model from AR1_TfKeras_CustomModel_v1.ipynb:"
      ]
    },
    {
      "cell_type": "markdown",
      "metadata": {
        "id": "PmIQ2esEuSa_"
      },
      "source": [
        "AR# ***5. New Variations on Custom Model and Custom Layer:***\n",
        "# ***===================================***"
      ]
    },
    {
      "cell_type": "markdown",
      "metadata": {
        "id": "nPcORwyiOzPv"
      },
      "source": [
        "\n",
        "\n",
        "ARMA(2,2)\n",
        "\n",
        "* state: \n",
        "ht-1 = (yt-1, yt-2, et-1, et-2)\n",
        "\n",
        "update: in t+=1\n",
        "\n",
        "* yt = input\n",
        "* yt^ = f1 yt-1 +  f2*yt-2 + b1*et-1 + b*2et-2\n",
        "* et = yt - yt^\n",
        "* et-1= \n",
        "* yt-1= \n",
        "\n",
        "(yt, yt-1, yt - yt^, et-1 )\n",
        "\n",
        "one more update: in t+=1\n",
        "\n",
        "(yt+1, yt, yt+1 - yt+1^, et ) = (h1 h2 h3 h4)\n",
        "\n",
        "can i calc yt^ from ht-1? yes, done above\n",
        "\n",
        "theta = (f1 f2 b1 b2)\n",
        "\n",
        "logL = -(n/2)log(2pi sigma^2) - (1/2sigma^2)(y - theta^T * state)\n",
        "\n",
        "* theta* = argmin -logL\n",
        "\n",
        "* ht = (yt, yt-1, yt - yt^, et-1 )\n",
        "* write ht as f(yt, ht-1)\n",
        "\n",
        "* ht = f(yt, ht-1) = (yt, ht-1[1], yt - theta*ht-1, ht-1[3] )\n",
        "\n"
      ]
    },
    {
      "cell_type": "markdown",
      "metadata": {
        "id": "eOf2BFuqOw-8"
      },
      "source": [
        "\n",
        "\n"
      ]
    },
    {
      "cell_type": "code",
      "metadata": {
        "id": "FXF_dlIyusX5"
      },
      "source": [
        "class Linear4(layers.Layer):\n",
        "\n",
        "  def __init__(self, units=P, **kwargs):\n",
        "    super(Linear4, self).__init__(**kwargs)\n",
        "    self.units = units\n",
        "\n",
        "  def build(self, input_shape):\n",
        "    self.w = self.add_weight(shape=(input_shape[-1], self.units),\n",
        "                             initializer='random_normal',\n",
        "                             trainable=True)\n",
        "    self.b = self.add_weight(shape=(self.units,),\n",
        "                             initializer='random_normal',\n",
        "                             trainable=True)\n",
        "    self.log_sigma = self.add_weight(shape=(self.units,),\n",
        "                                     initializer='random_normal',\n",
        "                                     trainable=True)\n",
        "    self.state = tf.Variable(0.0) # Initialize state\n",
        "    # self.built = True\n",
        "\n",
        "  def call(self, inputs):\n",
        "    self.state = tf.matmul(inputs, self.w) + self.b\n",
        "    output = self.state\n",
        "    log_sigma = self.log_sigma\n",
        "    return output, log_sigma"
      ],
      "execution_count": 12,
      "outputs": []
    },
    {
      "cell_type": "code",
      "metadata": {
        "id": "biKpeSgFusTn"
      },
      "source": [
        "# Build known model as CustomModel\n",
        "# Later I can change the Layers to my CustomLayer\n",
        "\n",
        "class CustomModel4(tf.keras.Model):\n",
        "\n",
        "    def __init__(self, L1=None, L2=None):\n",
        "        super(CustomModel4, self).__init__()\n",
        "        self.layer1 = Linear4(1)\n",
        "        self.log_sigma = tf.Variable(-0.3)\n",
        "        # self.state = tf.Variable(0.0)\n",
        "\n",
        "    def call(self, inputs):\n",
        "        output, log_sigma = self.layer1(inputs)\n",
        "        self.log_sigma = log_sigma\n",
        "        return output\n",
        "\n",
        "    def loss_mse(self, target_y, predicted_y):\n",
        "        return tf.reduce_mean(tf.square(target_y - predicted_y))\n",
        "\n",
        "    def loss_logL(self, target_y, predicted_y):#, sigma):\n",
        "        sigma = tf.math.exp(self.log_sigma)\n",
        "        sigma_sq = tf.math.square(sigma)\n",
        "        msdiff = tf.reduce_mean(tf.square((target_y - predicted_y)))\n",
        "\n",
        "        dlogL = self.log_sigma + 0.5*msdiff / sigma_sq\n",
        "        return dlogL"
      ],
      "execution_count": 13,
      "outputs": []
    },
    {
      "cell_type": "code",
      "metadata": {
        "id": "F_btKftCusRj"
      },
      "source": [
        "# Declare my model:\n",
        "modelayer4     = CustomModel4()"
      ],
      "execution_count": 14,
      "outputs": []
    },
    {
      "cell_type": "code",
      "metadata": {
        "id": "RGTIqhe9usO0"
      },
      "source": [
        "optimizer = tf.keras.optimizers.Adam(learning_rate=0.001)\n",
        "modelayer4.compile(optimizer, \n",
        "                    loss=modelayer4.loss_logL)"
      ],
      "execution_count": 15,
      "outputs": []
    },
    {
      "cell_type": "code",
      "metadata": {
        "id": "aAGZP07EwWLc",
        "colab": {
          "base_uri": "https://localhost:8080/"
        },
        "outputId": "109ea250-0adf-41bf-f36d-2ca3afdbe5b2"
      },
      "source": [
        "training_logs = modelayer4.fit( X_train, Y_train, epochs=100, verbose=1)"
      ],
      "execution_count": 16,
      "outputs": [
        {
          "output_type": "stream",
          "text": [
            "Epoch 1/100\n",
            "782/782 [==============================] - 1s 1ms/step - loss: 0.3887\n",
            "Epoch 2/100\n",
            "782/782 [==============================] - 1s 1ms/step - loss: -0.1348\n",
            "Epoch 3/100\n",
            "782/782 [==============================] - 1s 1ms/step - loss: -0.1883\n",
            "Epoch 4/100\n",
            "782/782 [==============================] - 1s 1ms/step - loss: -0.1883\n",
            "Epoch 5/100\n",
            "782/782 [==============================] - 1s 1ms/step - loss: -0.1883\n",
            "Epoch 6/100\n",
            "782/782 [==============================] - 1s 1ms/step - loss: -0.1882\n",
            "Epoch 7/100\n",
            "782/782 [==============================] - 1s 1ms/step - loss: -0.1882\n",
            "Epoch 8/100\n",
            "782/782 [==============================] - 1s 1ms/step - loss: -0.1882\n",
            "Epoch 9/100\n",
            "782/782 [==============================] - 1s 1ms/step - loss: -0.1882\n",
            "Epoch 10/100\n",
            "782/782 [==============================] - 1s 1ms/step - loss: -0.1883\n",
            "Epoch 11/100\n",
            "782/782 [==============================] - 1s 1ms/step - loss: -0.1882\n",
            "Epoch 12/100\n",
            "782/782 [==============================] - 1s 1ms/step - loss: -0.1882\n",
            "Epoch 13/100\n",
            "782/782 [==============================] - 1s 1ms/step - loss: -0.1882\n",
            "Epoch 14/100\n",
            "782/782 [==============================] - 1s 1ms/step - loss: -0.1882\n",
            "Epoch 15/100\n",
            "782/782 [==============================] - 1s 1ms/step - loss: -0.1882\n",
            "Epoch 16/100\n",
            "782/782 [==============================] - 1s 1ms/step - loss: -0.1882\n",
            "Epoch 17/100\n",
            "782/782 [==============================] - 1s 1ms/step - loss: -0.1882\n",
            "Epoch 18/100\n",
            "782/782 [==============================] - 1s 1ms/step - loss: -0.1882\n",
            "Epoch 19/100\n",
            "782/782 [==============================] - 1s 1ms/step - loss: -0.1881\n",
            "Epoch 20/100\n",
            "782/782 [==============================] - 1s 1ms/step - loss: -0.1882\n",
            "Epoch 21/100\n",
            "782/782 [==============================] - 1s 1ms/step - loss: -0.1881\n",
            "Epoch 22/100\n",
            "782/782 [==============================] - 1s 1ms/step - loss: -0.1881\n",
            "Epoch 23/100\n",
            "782/782 [==============================] - 1s 1ms/step - loss: -0.1882\n",
            "Epoch 24/100\n",
            "782/782 [==============================] - 1s 1ms/step - loss: -0.1883\n",
            "Epoch 25/100\n",
            "782/782 [==============================] - 1s 1ms/step - loss: -0.1884\n",
            "Epoch 26/100\n",
            "782/782 [==============================] - 1s 1ms/step - loss: -0.1882\n",
            "Epoch 27/100\n",
            "782/782 [==============================] - 1s 1ms/step - loss: -0.1882\n",
            "Epoch 28/100\n",
            "782/782 [==============================] - 1s 1ms/step - loss: -0.1882\n",
            "Epoch 29/100\n",
            "782/782 [==============================] - 1s 1ms/step - loss: -0.1882\n",
            "Epoch 30/100\n",
            "782/782 [==============================] - 1s 1ms/step - loss: -0.1882\n",
            "Epoch 31/100\n",
            "782/782 [==============================] - 1s 1ms/step - loss: -0.1882\n",
            "Epoch 32/100\n",
            "782/782 [==============================] - 1s 1ms/step - loss: -0.1884\n",
            "Epoch 33/100\n",
            "782/782 [==============================] - 1s 1ms/step - loss: -0.1881\n",
            "Epoch 34/100\n",
            "782/782 [==============================] - 1s 1ms/step - loss: -0.1882\n",
            "Epoch 35/100\n",
            "782/782 [==============================] - 1s 1ms/step - loss: -0.1882\n",
            "Epoch 36/100\n",
            "782/782 [==============================] - 1s 1ms/step - loss: -0.1882\n",
            "Epoch 37/100\n",
            "782/782 [==============================] - 1s 1ms/step - loss: -0.1883\n",
            "Epoch 38/100\n",
            "782/782 [==============================] - 1s 1ms/step - loss: -0.1882\n",
            "Epoch 39/100\n",
            "782/782 [==============================] - 1s 1ms/step - loss: -0.1882\n",
            "Epoch 40/100\n",
            "782/782 [==============================] - 1s 1ms/step - loss: -0.1883\n",
            "Epoch 41/100\n",
            "782/782 [==============================] - 1s 1ms/step - loss: -0.1881\n",
            "Epoch 42/100\n",
            "782/782 [==============================] - 1s 1ms/step - loss: -0.1883\n",
            "Epoch 43/100\n",
            "782/782 [==============================] - 1s 1ms/step - loss: -0.1882\n",
            "Epoch 44/100\n",
            "782/782 [==============================] - 1s 1ms/step - loss: -0.1882\n",
            "Epoch 45/100\n",
            "782/782 [==============================] - 1s 1ms/step - loss: -0.1883\n",
            "Epoch 46/100\n",
            "782/782 [==============================] - 1s 1ms/step - loss: -0.1881\n",
            "Epoch 47/100\n",
            "782/782 [==============================] - 1s 1ms/step - loss: -0.1882\n",
            "Epoch 48/100\n",
            "782/782 [==============================] - 1s 1ms/step - loss: -0.1882\n",
            "Epoch 49/100\n",
            "782/782 [==============================] - 1s 1ms/step - loss: -0.1883\n",
            "Epoch 50/100\n",
            "782/782 [==============================] - 1s 1ms/step - loss: -0.1881\n",
            "Epoch 51/100\n",
            "782/782 [==============================] - 1s 1ms/step - loss: -0.1883\n",
            "Epoch 52/100\n",
            "782/782 [==============================] - 1s 1ms/step - loss: -0.1883\n",
            "Epoch 53/100\n",
            "782/782 [==============================] - 1s 1ms/step - loss: -0.1882\n",
            "Epoch 54/100\n",
            "782/782 [==============================] - 1s 1ms/step - loss: -0.1882\n",
            "Epoch 55/100\n",
            "782/782 [==============================] - 1s 1ms/step - loss: -0.1881\n",
            "Epoch 56/100\n",
            "782/782 [==============================] - 1s 1ms/step - loss: -0.1882\n",
            "Epoch 57/100\n",
            "782/782 [==============================] - 1s 1ms/step - loss: -0.1882\n",
            "Epoch 58/100\n",
            "782/782 [==============================] - 1s 1ms/step - loss: -0.1882\n",
            "Epoch 59/100\n",
            "782/782 [==============================] - 1s 1ms/step - loss: -0.1883\n",
            "Epoch 60/100\n",
            "782/782 [==============================] - 1s 1ms/step - loss: -0.1882\n",
            "Epoch 61/100\n",
            "782/782 [==============================] - 1s 1ms/step - loss: -0.1882\n",
            "Epoch 62/100\n",
            "782/782 [==============================] - 1s 1ms/step - loss: -0.1882\n",
            "Epoch 63/100\n",
            "782/782 [==============================] - 1s 1ms/step - loss: -0.1883\n",
            "Epoch 64/100\n",
            "782/782 [==============================] - 1s 1ms/step - loss: -0.1882\n",
            "Epoch 65/100\n",
            "782/782 [==============================] - 1s 1ms/step - loss: -0.1883\n",
            "Epoch 66/100\n",
            "782/782 [==============================] - 1s 1ms/step - loss: -0.1882\n",
            "Epoch 67/100\n",
            "782/782 [==============================] - 1s 1ms/step - loss: -0.1881\n",
            "Epoch 68/100\n",
            "782/782 [==============================] - 1s 1ms/step - loss: -0.1883\n",
            "Epoch 69/100\n",
            "782/782 [==============================] - 1s 1ms/step - loss: -0.1881\n",
            "Epoch 70/100\n",
            "782/782 [==============================] - 1s 1ms/step - loss: -0.1882\n",
            "Epoch 71/100\n",
            "782/782 [==============================] - 1s 1ms/step - loss: -0.1882\n",
            "Epoch 72/100\n",
            "782/782 [==============================] - 1s 1ms/step - loss: -0.1883\n",
            "Epoch 73/100\n",
            "782/782 [==============================] - 1s 1ms/step - loss: -0.1882\n",
            "Epoch 74/100\n",
            "782/782 [==============================] - 1s 1ms/step - loss: -0.1882\n",
            "Epoch 75/100\n",
            "782/782 [==============================] - 1s 1ms/step - loss: -0.1883\n",
            "Epoch 76/100\n",
            "782/782 [==============================] - 1s 1ms/step - loss: -0.1882\n",
            "Epoch 77/100\n",
            "782/782 [==============================] - 1s 1ms/step - loss: -0.1884\n",
            "Epoch 78/100\n",
            "782/782 [==============================] - 1s 1ms/step - loss: -0.1882\n",
            "Epoch 79/100\n",
            "782/782 [==============================] - 1s 1ms/step - loss: -0.1881\n",
            "Epoch 80/100\n",
            "782/782 [==============================] - 1s 1ms/step - loss: -0.1882\n",
            "Epoch 81/100\n",
            "782/782 [==============================] - 1s 1ms/step - loss: -0.1882\n",
            "Epoch 82/100\n",
            "782/782 [==============================] - 1s 1ms/step - loss: -0.1882\n",
            "Epoch 83/100\n",
            "782/782 [==============================] - 1s 1ms/step - loss: -0.1882\n",
            "Epoch 84/100\n",
            "782/782 [==============================] - 1s 1ms/step - loss: -0.1882\n",
            "Epoch 85/100\n",
            "782/782 [==============================] - 1s 1ms/step - loss: -0.1882\n",
            "Epoch 86/100\n",
            "782/782 [==============================] - 1s 1ms/step - loss: -0.1883\n",
            "Epoch 87/100\n",
            "782/782 [==============================] - 1s 1ms/step - loss: -0.1883\n",
            "Epoch 88/100\n",
            "782/782 [==============================] - 1s 1ms/step - loss: -0.1882\n",
            "Epoch 89/100\n",
            "782/782 [==============================] - 1s 1ms/step - loss: -0.1882\n",
            "Epoch 90/100\n",
            "782/782 [==============================] - 1s 1ms/step - loss: -0.1882\n",
            "Epoch 91/100\n",
            "782/782 [==============================] - 1s 1ms/step - loss: -0.1882\n",
            "Epoch 92/100\n",
            "782/782 [==============================] - 1s 1ms/step - loss: -0.1882\n",
            "Epoch 93/100\n",
            "782/782 [==============================] - 1s 1ms/step - loss: -0.1881\n",
            "Epoch 94/100\n",
            "782/782 [==============================] - 1s 1ms/step - loss: -0.1881\n",
            "Epoch 95/100\n",
            "782/782 [==============================] - 1s 1ms/step - loss: -0.1883\n",
            "Epoch 96/100\n",
            "782/782 [==============================] - 1s 1ms/step - loss: -0.1882\n",
            "Epoch 97/100\n",
            "782/782 [==============================] - 1s 1ms/step - loss: -0.1882\n",
            "Epoch 98/100\n",
            "782/782 [==============================] - 1s 1ms/step - loss: -0.1882\n",
            "Epoch 99/100\n",
            "782/782 [==============================] - 1s 1ms/step - loss: -0.1881\n",
            "Epoch 100/100\n",
            "782/782 [==============================] - 1s 1ms/step - loss: -0.1883\n"
          ],
          "name": "stdout"
        }
      ]
    },
    {
      "cell_type": "code",
      "metadata": {
        "id": "3JGhNRGcwWH_",
        "colab": {
          "base_uri": "https://localhost:8080/"
        },
        "outputId": "a219dcba-3967-44c3-92dc-3d1561fd7da4"
      },
      "source": [
        "print('Phi estimated: ' + str( modelayer4.get_weights()[0][0][0] ))\n",
        "print('Const estimated: ' + str( modelayer4.get_weights()[1][0] ))\n",
        "print('logSigma estimated: ' + str( modelayer4.get_weights()[2][0] ))"
      ],
      "execution_count": 17,
      "outputs": [
        {
          "output_type": "stream",
          "text": [
            "Phi estimated: 0.9030032\n",
            "Const estimated: 0.0044042496\n",
            "logSigma estimated: -0.68835306\n"
          ],
          "name": "stdout"
        }
      ]
    },
    {
      "cell_type": "code",
      "metadata": {
        "id": "25owF_7LwWDY",
        "colab": {
          "base_uri": "https://localhost:8080/"
        },
        "outputId": "dcfcbde2-30af-48af-b10f-aaf9706385ec"
      },
      "source": [
        "print('True Phi : ' + str( PHIs[0] ))\n",
        "print('True Const : ' + str( CONST ))\n",
        "print('True logSigma : ' + str( np.log(SIGMA) ))"
      ],
      "execution_count": 18,
      "outputs": [
        {
          "output_type": "stream",
          "text": [
            "True Phi : 0.9\n",
            "True Const : 0\n",
            "True logSigma : -0.6931471805599453\n"
          ],
          "name": "stdout"
        }
      ]
    },
    {
      "cell_type": "code",
      "metadata": {
        "id": "wguSMp8QwWAz"
      },
      "source": [
        ""
      ],
      "execution_count": 18,
      "outputs": []
    },
    {
      "cell_type": "code",
      "metadata": {
        "id": "KJYsW_tewV9_"
      },
      "source": [
        ""
      ],
      "execution_count": null,
      "outputs": []
    },
    {
      "cell_type": "code",
      "metadata": {
        "id": "kScTAWe8wV5l"
      },
      "source": [
        ""
      ],
      "execution_count": null,
      "outputs": []
    },
    {
      "cell_type": "code",
      "metadata": {
        "id": "8a9Kr1USw1SB"
      },
      "source": [
        ""
      ],
      "execution_count": null,
      "outputs": []
    }
  ]
}